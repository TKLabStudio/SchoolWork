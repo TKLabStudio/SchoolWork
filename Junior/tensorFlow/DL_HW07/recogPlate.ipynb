{
 "cells": [
  {
   "cell_type": "markdown",
   "metadata": {},
   "source": [
    "# 呈現車牌"
   ]
  },
  {
   "cell_type": "code",
   "execution_count": 29,
   "metadata": {},
   "outputs": [
    {
     "data": {
      "image/jpeg": "[encoded data removed]",
      "text/plain": [
       "<IPython.core.display.Image object>"
      ]
     },
     "execution_count": 29,
     "metadata": {},
     "output_type": "execute_result"
    }
   ],
   "source": [
    "from IPython.display import Image as Img\n",
    "Img(filename='predictPlate/1.jpg')"
   ]
  },
  {
   "cell_type": "code",
   "execution_count": 30,
   "metadata": {},
   "outputs": [],
   "source": [
    "# %load recogPlate.py\n",
    "def emptydir(dirname):  #清空資料夾\n",
    "    if os.path.isdir(dirname):  #資料夾存在就刪除\n",
    "        shutil.rmtree(dirname)\n",
    "        sleep(2)  #需延遲,否則會出錯\n",
    "    os.mkdir(dirname)  #建立資料夾\n"
   ]
  },
  {
   "cell_type": "code",
   "execution_count": 31,
   "metadata": {},
   "outputs": [],
   "source": [
    "\n",
    "from keras.models import load_model\n",
    "from PIL import Image\n",
    "import matplotlib.pyplot as plt\n",
    "import numpy as np\n",
    "import cv2\n",
    "import shutil, os\n",
    "from time import sleep \n"
   ]
  },
  {
   "cell_type": "code",
   "execution_count": 32,
   "metadata": {},
   "outputs": [],
   "source": [
    "\n",
    "labels = ['0','1','2','3','4','5','6','7','8','9','A','B','C','D','E','F','G','H','J','K','L','M','N','P','Q','R','S','T','U','V','W','X','Y','Z']  #標籤值\n",
    "#擷取車牌\n",
    "imgname = '1.jpg'\n",
    "dirname = 'recogdata'\n",
    "emptydir(dirname)\n",
    "img = cv2.imread('predictPlate/' + imgname)\n",
    "detector = cv2.CascadeClassifier('haar_carplate.xml')\n",
    "signs = detector.detectMultiScale(img, scaleFactor=1.1, minNeighbors=4, minSize=(20, 20))"
   ]
  },
  {
   "cell_type": "code",
   "execution_count": 33,
   "metadata": {},
   "outputs": [
    {
     "name": "stdout",
     "output_type": "stream",
     "text": [
      "有車牌！\n"
     ]
    }
   ],
   "source": [
    "if len(signs) > 0 :\n",
    "    print('有車牌！')\n",
    "else:\n",
    "    print('沒有車牌！')"
   ]
  },
  {
   "cell_type": "code",
   "execution_count": 34,
   "metadata": {},
   "outputs": [],
   "source": [
    "    for (x, y, w, h) in signs:          \n",
    "        image1 = Image.open('predictPlate/' + imgname)\n",
    "        image2 = image1.crop((x, y, x+w, y+h))\n",
    "        image3 = image2.resize((160, 40), Image.ANTIALIAS)\n",
    "        image3.save('tem.jpg')\n",
    "        image4 = cv2.imread('tem.jpg')\n",
    "        gray = cv2.cvtColor(image4, cv2.COLOR_RGB2GRAY)\n",
    "        _, img_thre = cv2.threshold(gray, 100, 255, cv2.THRESH_BINARY)\n",
    "        cv2.imwrite('tem.jpg', img_thre)\n"
   ]
  },
  {
   "cell_type": "code",
   "execution_count": 35,
   "metadata": {},
   "outputs": [
    {
     "data": {
      "image/jpeg": "[encoded data removed]",
      "text/plain": [
       "<IPython.core.display.Image object>"
      ]
     },
     "execution_count": 35,
     "metadata": {},
     "output_type": "execute_result"
    }
   ],
   "source": [
    "Img(filename='tem.jpg')"
   ]
  },
  {
   "cell_type": "code",
   "execution_count": 36,
   "metadata": {},
   "outputs": [
    {
     "name": "stdout",
     "output_type": "stream",
     "text": [
      "車牌號碼為：\n",
      "EME7565"
     ]
    }
   ],
   "source": [
    "    #分割文字\n",
    "    img_tem = cv2.imread('tem.jpg')\n",
    "    gray = cv2.cvtColor(img_tem, cv2.COLOR_BGR2GRAY)\n",
    "    _, thresh = cv2.threshold(gray, 127, 255, cv2.THRESH_BINARY_INV)  #轉為黑白\n",
    "    contours1 = cv2.findContours(thresh.copy(), cv2.RETR_EXTERNAL, cv2.CHAIN_APPROX_SIMPLE)  #尋找輪廓\n",
    "    contours = contours1[1]  #取得輪廓\n",
    "    letter_image_regions = []  #文字圖形串列\n",
    "    for contour in contours:  #依序處理輪廓\n",
    "        (x, y, w, h) = cv2.boundingRect(contour)  #單一輪廓資料\n",
    "        letter_image_regions.append((x, y, w, h))  #輪廓資料加入串列\n",
    "    letter_image_regions = sorted(letter_image_regions, key=lambda x: x[0])  #按X坐標排序\n",
    "    #存檔\n",
    "    i=1\n",
    "    for letter_bounding_box in letter_image_regions:  #依序處理輪廓資料\n",
    "        x, y, w, h = letter_bounding_box\n",
    "        if w>=5 and h>25 and h<35:  #長度>6且高度在25-35才是文字\n",
    "            letter_image = gray[y:y+h, x:x+w]  #擷取圖形\n",
    "            letter_image = cv2.resize(letter_image, (16, 35))\n",
    "            cv2.imwrite(dirname + '/{}.jpg'.format(i), letter_image)  #存檔\n",
    "            i += 1\n",
    "    #辨識車牌\n",
    "    datan = 0  #車牌文字數,即檔案數\n",
    "    for fname in os.listdir(dirname):\n",
    "        if os.path.isfile(os.path.join(dirname, fname)):\n",
    "            datan += 1\n",
    "    tem_data = []\n",
    "    for index in range(1, (datan+1)):  #讀取預測資料\n",
    "        tem_data.append((np.array(Image.open(\"recogdata/\" + str(index) +\".jpg\")))/255.0)\n",
    "    real_data = np.stack(tem_data)\n",
    "    real_data1 = np.expand_dims(real_data, axis=3)  #(7,38,18,1)\n",
    "    model = load_model(\"carplate_model.hdf5\")  #讀取模型\n",
    "    predictions = model.predict_classes(real_data1)  #預測資料\n",
    "    print('車牌號碼為：')\n",
    "    for i in range(len(predictions)):  #顯示結果\n",
    "        print(labels[int(predictions[i])], end='') "
   ]
  },
  {
   "cell_type": "code",
   "execution_count": 37,
   "metadata": {},
   "outputs": [
    {
     "data": {
      "image/jpeg": "[encoded data removed]",
      "text/plain": [
       "<IPython.core.display.Image object>"
      ]
     },
     "metadata": {},
     "output_type": "display_data"
    },
    {
     "name": "stdout",
     "output_type": "stream",
     "text": [
      "shape:\n",
      "(35, 16, 3)\n"
     ]
    },
    {
     "data": {
      "image/jpeg": "[encoded data removed]",
      "text/plain": [
       "<IPython.core.display.Image object>"
      ]
     },
     "metadata": {},
     "output_type": "display_data"
    },
    {
     "name": "stdout",
     "output_type": "stream",
     "text": [
      "shape:\n",
      "(35, 16, 3)\n"
     ]
    },
    {
     "data": {
      "image/jpeg": "[encoded data removed]",
      "text/plain": [
       "<IPython.core.display.Image object>"
      ]
     },
     "metadata": {},
     "output_type": "display_data"
    },
    {
     "name": "stdout",
     "output_type": "stream",
     "text": [
      "shape:\n",
      "(35, 16, 3)\n"
     ]
    },
    {
     "data": {
      "image/jpeg": "[encoded data removed]",
      "text/plain": [
       "<IPython.core.display.Image object>"
      ]
     },
     "metadata": {},
     "output_type": "display_data"
    },
    {
     "name": "stdout",
     "output_type": "stream",
     "text": [
      "shape:\n",
      "(35, 16, 3)\n"
     ]
    },
    {
     "data": {
      "image/jpeg": "[encoded data removed]",
      "text/plain": [
       "<IPython.core.display.Image object>"
      ]
     },
     "metadata": {},
     "output_type": "display_data"
    },
    {
     "name": "stdout",
     "output_type": "stream",
     "text": [
      "shape:\n",
      "(35, 16, 3)\n"
     ]
    },
    {
     "data": {
      "image/jpeg": "[encoded data removed]",
      "text/plain": [
       "<IPython.core.display.Image object>"
      ]
     },
     "metadata": {},
     "output_type": "display_data"
    },
    {
     "name": "stdout",
     "output_type": "stream",
     "text": [
      "shape:\n",
      "(35, 16, 3)\n"
     ]
    },
    {
     "data": {
      "image/jpeg": "[encoded data removed]",
      "text/plain": [
       "<IPython.core.display.Image object>"
      ]
     },
     "metadata": {},
     "output_type": "display_data"
    },
    {
     "name": "stdout",
     "output_type": "stream",
     "text": [
      "shape:\n",
      "(35, 16, 3)\n"
     ]
    }
   ],
   "source": [
    "for index in range(1, (datan+1)):  #讀取預測資料\n",
    "    display(Img(filename=\"recogdata/\" + str(index) +\".jpg\"))\n",
    "    print(\"shape:\")\n",
    "    print(cv2.imread(\"recogdata/\" + str(index) +\".jpg\").shape)"
   ]
  },
  {
   "cell_type": "code",
   "execution_count": 38,
   "metadata": {},
   "outputs": [],
   "source": [
    "os.remove('tem.jpg')"
   ]
  },
  {
   "cell_type": "code",
   "execution_count": null,
   "metadata": {},
   "outputs": [],
   "source": []
  }
 ],
 "metadata": {
  "kernelspec": {
   "display_name": "Python 3",
   "language": "python",
   "name": "python3"
  },
  "language_info": {
   "codemirror_mode": {
    "name": "ipython",
    "version": 3
   },
   "file_extension": ".py",
   "mimetype": "text/x-python",
   "name": "python",
   "nbconvert_exporter": "python",
   "pygments_lexer": "ipython3",
   "version": "3.7.6"
  }
 },
 "nbformat": 4,
 "nbformat_minor": 4
}
